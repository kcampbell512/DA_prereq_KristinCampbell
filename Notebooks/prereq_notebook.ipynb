{
 "cells": [
  {
   "cell_type": "code",
   "execution_count": null,
   "id": "473b2865",
   "metadata": {},
   "outputs": [],
   "source": [
    "first_name = \"Kristin\"\n",
    "last_name = \"Campbell\"\n",
    "full_name = first_name + \"\" + last_name\n",
    "print(full_name)\n"
   ]
  },
  {
   "cell_type": "markdown",
   "id": "14cf893a",
   "metadata": {},
   "source": [
    ">My name is Kristin Campbell. I am excited to learn the ins and outs of Data Analysis in order to launch a career change. I am a proud dog mom to Lucy-my sassy, deaf rescue.\n"
   ]
  }
 ],
 "metadata": {
  "language_info": {
   "name": "python"
  }
 },
 "nbformat": 4,
 "nbformat_minor": 5
}
